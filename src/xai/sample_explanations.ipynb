{
 "cells": [
  {
   "cell_type": "code",
   "execution_count": 2,
   "metadata": {},
   "outputs": [],
   "source": [
    "import sys\n",
    "from box import Box\n",
    "import numpy as np\n",
    "import torch.nn.functional as F\n",
    "from collections import OrderedDict\n",
    "from tqdm import tqdm\n",
    "import seaborn as sn\n",
    "import matplotlib.pyplot as plt\n",
    "from collections import Counter\n",
    "from pprint import pprint\n",
    "from itertools import product\n",
    "import shap\n",
    "\n",
    "sys.path.append('../')\n",
    "from util.xai_utils import *\n",
    "import utils"
   ]
  },
  {
   "cell_type": "markdown",
   "metadata": {},
   "source": [
    "## Utility"
   ]
  },
  {
   "cell_type": "code",
   "execution_count": 76,
   "metadata": {},
   "outputs": [],
   "source": [
    "def convert_to_tensor(nested_array):\n",
    "    if isinstance(nested_array, list):\n",
    "        return torch.stack([convert_to_tensor(x) for x in nested_array])\n",
    "    else:\n",
    "        return torch.tensor(np.array(nested_array), dtype=torch.float32)"
   ]
  },
  {
   "cell_type": "code",
   "execution_count": 77,
   "metadata": {},
   "outputs": [],
   "source": [
    "def get_appr_params(base_path, T=2):\n",
    "    dict_appr_params  = {} \n",
    "    alpha, beta = None, None\n",
    "    results_files = [elem for elem in glob(f'{base_path}/results/*') if (('outputs_targets_features_' in elem) \\\n",
    "                        and elem.split('/')[-1].split('-')[0].split('_')[-1]=='1')]\n",
    "    if len(results_files)==0:\n",
    "        results_files = [elem for elem in glob(f'{base_path}/results/*') if 'per_class_metrics' in elem]\n",
    "    for out_path in results_files:    \n",
    "        timestamp = out_path.split('.')[-2].split('-')[-1].split('_')[0]\n",
    "        args_file = f'{base_path}/args-{timestamp}.txt'\n",
    "        stdout_file = f'{base_path}/stdout-{timestamp}.txt'\n",
    "        with open(stdout_file) as f:\n",
    "            lines = f.readlines()\n",
    "        with open(args_file) as f:\n",
    "            args = Box(json.loads(f.read()))\n",
    "        t = float(args.get('T', default = 2))\n",
    "        if t==T:\n",
    "            class_order = ''\n",
    "            for l in lines:\n",
    "                if 'BiC training for Task 1' in l:\n",
    "                    alpha=float(l.split('alpha=')[-1].split(',')[0])\n",
    "                    beta=float(l.split('beta=')[-1])\n",
    "                if '[[' in l and ']]' in l:\n",
    "                    class_order=[int(elem) for elem in l.split(']]')[0].replace('[','').replace(']','').replace('','').split(',')]\n",
    "                    class_order=[class_order[:args.nc_first_task], class_order[args.nc_first_task:]]\n",
    "            dict_appr_params[args.seed]={'alpha':alpha, 'beta':beta,\n",
    "                'timestamp':timestamp, 'class_order':class_order}\n",
    "    return dict_appr_params"
   ]
  },
  {
   "cell_type": "code",
   "execution_count": 78,
   "metadata": {},
   "outputs": [],
   "source": [
    "device = torch.device('cpu')\n",
    "\n",
    "class Net(nn.Module):\n",
    "    def __init__(self, npkts=10, nfeat=4, nc_base=10, nc_incr=7):\n",
    "        super(Net, self).__init__()\n",
    "        self.alpha = 1\n",
    "        self.beta = 0\n",
    "        self.conv1 = nn.Conv2d(1, 32, kernel_size=(4,2), stride=(1,1), padding=0)\n",
    "        self.relu1 = nn.ReLU()\n",
    "        self.max1 = nn.MaxPool2d((3,2), (1,1), 0)\n",
    "        self.bn1 = nn.BatchNorm2d(32)\n",
    "        self.conv2 = nn.Conv2d(32, 64, kernel_size=(4,2), stride=(1, 1), padding=0)        \n",
    "        self.max2 = nn.MaxPool2d((3,1), stride=(1,1), padding=0)\n",
    "        self.relu2 = nn.ReLU()\n",
    "        self.bn2 = nn.BatchNorm2d(64)\n",
    "        self.fc1 = nn.Linear(npkts*nfeat*64,200)        \n",
    "        self.relu3 = nn.ReLU()\n",
    "        self.fc2 = nn.Linear(200, nc_base)\n",
    "        self.fc3 = nn.Linear(200, nc_incr)\n",
    "        self.softmax = nn.Softmax(dim=1)\n",
    "\n",
    "        self.paddings0 = [(1, 2), (1, 1), (1, 2), (1, 1)]\n",
    "        self.paddings1 = [(0, 1), (0, 1), (0, 1), (0, 1)]\n",
    "        self.pool_kernel0 = (3, 2)\n",
    "        self.pool_kernel1 = (3, 1) if nfeat < 6 else self.pool_kernel0\n",
    "        self.pool_stride = (1, 1)\n",
    "\n",
    "    def extract_features(self, x):\n",
    "        x = F.pad(x, (0, 1) + (1, 2))\n",
    "        x = self.conv1(x)\n",
    "        x = self.relu1(x)\n",
    "        x = F.pad(x, (0, 1) + (1, 1))\n",
    "        x = self.max1(x)\n",
    "        x = self.bn1(x)\n",
    "        x = F.pad(x, (0,1) + (1,2))\n",
    "        x = self.conv2(x)\n",
    "        x = self.relu2(x)\n",
    "        x = F.pad(x, (0,0) + (1,1))\n",
    "        x = self.max2(x)\n",
    "        x = self.bn2(x)\n",
    "        x = torch.flatten(x, start_dim=1)\n",
    "        x = self.fc1(x)\n",
    "        return x\n",
    "    \n",
    "    def forward(self, x):\n",
    "        x = self.relu3(self.extract_features(x))\n",
    "        x1 = self.fc2(x)\n",
    "        x2 = self.fc3(x)\n",
    "        x2= self.alpha * x2 + self.beta\n",
    "        x = torch.cat((x1, x2), dim=1)\n",
    "        return x\n",
    "        "
   ]
  },
  {
   "cell_type": "code",
   "execution_count": 79,
   "metadata": {},
   "outputs": [
    {
     "data": {
      "text/plain": [
       "Net(\n",
       "  (conv1): Conv2d(1, 32, kernel_size=(4, 2), stride=(1, 1))\n",
       "  (relu1): ReLU()\n",
       "  (max1): MaxPool2d(kernel_size=(3, 2), stride=(1, 1), padding=0, dilation=1, ceil_mode=False)\n",
       "  (bn1): BatchNorm2d(32, eps=1e-05, momentum=0.1, affine=True, track_running_stats=True)\n",
       "  (conv2): Conv2d(32, 64, kernel_size=(4, 2), stride=(1, 1))\n",
       "  (max2): MaxPool2d(kernel_size=(3, 1), stride=(1, 1), padding=0, dilation=1, ceil_mode=False)\n",
       "  (relu2): ReLU()\n",
       "  (bn2): BatchNorm2d(64, eps=1e-05, momentum=0.1, affine=True, track_running_stats=True)\n",
       "  (fc1): Linear(in_features=2560, out_features=200, bias=True)\n",
       "  (relu3): ReLU()\n",
       "  (fc2): Linear(in_features=200, out_features=10, bias=True)\n",
       "  (fc3): Linear(in_features=200, out_features=7, bias=True)\n",
       "  (softmax): Softmax(dim=1)\n",
       ")"
      ]
     },
     "execution_count": 79,
     "metadata": {},
     "output_type": "execute_result"
    }
   ],
   "source": [
    "model = Net()\n",
    " \n",
    "model_path = f'{appr_path}/models/task1-{ts}.ckpt'\n",
    "base_model = torch.load(model_path)\n",
    " \n",
    "base_model['model.fc2.weight'] = base_model['heads.0.weight']\n",
    "del base_model['heads.0.weight']\n",
    " \n",
    "base_model['model.fc2.bias'] = base_model['heads.0.bias']\n",
    "del base_model['heads.0.bias']\n",
    " \n",
    "base_model['model.fc3.weight'] = base_model['heads.1.weight']\n",
    "del base_model['heads.1.weight']\n",
    " \n",
    "base_model['model.fc3.bias'] = base_model['heads.1.bias']\n",
    "del base_model['heads.1.bias']\n",
    " \n",
    "base_model2 = OrderedDict()\n",
    " \n",
    "for k in base_model.keys():\n",
    "    base_model2['.'.join(k.split('.')[1:])] = base_model[k]\n",
    " \n",
    "model.load_state_dict(base_model2)\n",
    "model.eval()"
   ]
  },
  {
   "cell_type": "markdown",
   "metadata": {},
   "source": [
    "## Data"
   ]
  },
  {
   "cell_type": "code",
   "execution_count": 80,
   "metadata": {},
   "outputs": [
    {
     "name": "stdout",
     "output_type": "stream",
     "text": [
      "{1: {'alpha': 1.08663, 'beta': 0.09829, 'timestamp': '1728922456366034', 'class_order': [[], [6, 5, 1, 0, 2, 4, 9, 7, 8, 3, 11, 9, 13, 2, 16, 15, 3, 6, 7, 14, 10, 12]]}}\n",
      "WARNING: using pre-processed dataframe.\n",
      "Index(['SCALED_PL', 'SCALED_IAT', 'SCALED_DIR', 'SCALED_WIN', 'ENC_LABEL',\n",
      "       'IS_TRAIN'],\n",
      "      dtype='object')\n",
      "Class order:  [6, 5, 1, 0, 2, 4, 9, 7, 8, 3]\n"
     ]
    },
    {
     "name": "stdout",
     "output_type": "stream",
     "text": [
      "WARNING: using pre-processed dataframe.\n",
      "Index(['SCALED_PL', 'SCALED_IAT', 'SCALED_DIR', 'SCALED_WIN', 'ENC_LABEL',\n",
      "       'IS_TRAIN'],\n",
      "      dtype='object')\n",
      "Class order:  [3, 0, 8, 6, 11, 10, 1, 4, 7, 9, 2, 5]\n",
      "[ 2  3  6  7  9 10 11 12 13 14 15 16]\n",
      "[(0, 12)]\n",
      "[[6, 5, 1, 0, 2, 4, 9, 7, 8, 3], [11, 9, 13, 2, 16, 15, 3, 6, 7, 14, 10, 12]] [(1, 7)]\n"
     ]
    }
   ],
   "source": [
    "appr_path = '../results/src_iot-nidd_dst_ton-iot_bic-mem/'\n",
    "\n",
    "dict_bic = get_appr_params(appr_path)\n",
    "\n",
    "print(dict_bic)\n",
    "\n",
    "seed = 1\n",
    "ts = dict_bic[seed]['timestamp']\n",
    "\n",
    "args_path = f'{appr_path}/args-{ts}.txt'\n",
    "with open(args_path) as f:\n",
    "    args = Box(json.loads(f.read()))\n",
    "\n",
    "assert args.seed == seed\n",
    "\n",
    "utils.seed_everything(seed=args.seed)\n",
    "trn_loader, val_loader, tst_loader, taskcla = get_loaders(\n",
    "        args.datasets, args.num_tasks, args.nc_first_task, args.nc_incr_tasks, args.batch_size,\n",
    "        validation=0.1, num_workers=0, num_pkts=args.num_pkts, fields=args.fields, seed=args.seed\n",
    "    )"
   ]
  },
  {
   "cell_type": "code",
   "execution_count": 81,
   "metadata": {},
   "outputs": [],
   "source": [
    "def get_classes(fn):\n",
    "    with open(fn) as fin:\n",
    "        classes = fin.readlines()\n",
    "    return [c.strip() for c in classes if c.strip()]"
   ]
  },
  {
   "cell_type": "code",
   "execution_count": 82,
   "metadata": {},
   "outputs": [
    {
     "name": "stdout",
     "output_type": "stream",
     "text": [
      "['iot_nidd', 'ton_iot']\n"
     ]
    }
   ],
   "source": [
    "print(args.datasets)\n",
    "\n",
    "data_paths = {\n",
    "    'iot_nidd': '../../data/uniform_label/iot-nidd_dwn10p_prep1.parquet',\n",
    "    'edge_iiot': '../../data/uniform_label/edge-iiot_dwn10p_prep1.parquet',\n",
    "    'ton_iot': '../../data/uniform_label/ton-iot_dwn10p_prep1.parquet',\n",
    "}\n",
    "\n",
    "classes_paths = {\n",
    "    'iot_nidd': '../../data/uniform_label/classes_iot-nidd.txt',\n",
    "    'edge_iiot': '../../data/uniform_label/classes_edge-iiot.txt',\n",
    "    'ton_iot': '../../data/uniform_label/classes_ton-iot.txt',\n",
    "}\n",
    "\n",
    "dfs = [pd.read_parquet(data_paths[d]) for d in args.datasets]\n",
    "\n",
    "for d, df in zip(args.datasets, dfs):\n",
    "    str_classes = get_classes(classes_paths[d])\n",
    "    df['LABEL'] = df['ENC_LABEL'].apply(lambda x: str_classes[x])\n"
   ]
  },
  {
   "cell_type": "code",
   "execution_count": 83,
   "metadata": {},
   "outputs": [],
   "source": [
    "trn_instances_source = torch.concat([x for x, y in trn_loader[0]], axis=0)\n",
    "trn_instances_target = torch.concat([x for x, y in trn_loader[1]], axis=0)\n",
    "\n",
    "tst_instances_source = torch.concat([x for x, y in tst_loader[0]], axis=0)\n",
    "tst_instances_target = torch.concat([x for x, y in tst_loader[1]], axis=0)\n",
    "\n",
    "trn_labels_source = torch.concat([y for x, y in trn_loader[0]], axis=0)\n",
    "trn_labels_target = torch.concat([y for x, y in trn_loader[1]], axis=0)\n",
    "\n",
    "tst_labels_source = torch.concat([y for x, y in tst_loader[0]], axis=0)\n",
    "tst_labels_target = torch.concat([y for x, y in tst_loader[1]], axis=0)\n",
    "\n",
    "val_labels_source = torch.concat([y for x, y in val_loader[0]], axis=0)\n",
    "val_labels_target = torch.concat([y for x, y in val_loader[1]], axis=0)"
   ]
  },
  {
   "cell_type": "code",
   "execution_count": 84,
   "metadata": {},
   "outputs": [],
   "source": [
    "vc_src = dfs[0]['LABEL'].value_counts().to_dict()\n",
    "vc_tgt = dfs[1]['LABEL'].value_counts().to_dict()"
   ]
  },
  {
   "cell_type": "code",
   "execution_count": 85,
   "metadata": {},
   "outputs": [],
   "source": [
    "avc_src = Counter(np.concatenate((trn_labels_source, tst_labels_source, val_labels_source)))\n",
    "avc_tgt = Counter(np.concatenate((trn_labels_target, tst_labels_target, val_labels_target)))"
   ]
  },
  {
   "cell_type": "code",
   "execution_count": 86,
   "metadata": {},
   "outputs": [],
   "source": [
    "def get_enc_to_str(enc_dict, str_dict):\n",
    "    n_enc_dict = []\n",
    "    n_str_dict = []\n",
    "\n",
    "    enc_dict_val_sort = list(sorted(enc_dict.values()))\n",
    "    str_dict_val_sort = list(sorted(str_dict.values()))\n",
    "\n",
    "    for v in enc_dict_val_sort:\n",
    "        k = [k for k, v0 in enc_dict.items() if v == v0][0]\n",
    "        n_enc_dict.append((k, v))\n",
    "    \n",
    "    for v in str_dict_val_sort:\n",
    "        k = [k for k, v0 in str_dict.items() if v == v0][0]\n",
    "        n_str_dict.append((k, v))\n",
    "\n",
    "    enc_to_str_dict = {}\n",
    "\n",
    "    for v0, v1 in product(n_enc_dict, n_str_dict):\n",
    "        if v0[1] == v1[1]:\n",
    "            enc_to_str_dict[v0[0]] = v1[0]\n",
    "\n",
    "    mis_n_enc_dict = [v for v in n_enc_dict if v[0] not in enc_to_str_dict.keys()]\n",
    "    mis_n_str_dict = [v for v in n_str_dict if v[0] not in enc_to_str_dict.values()]\n",
    "\n",
    "    assert len(mis_n_enc_dict) == len(mis_n_str_dict)\n",
    "\n",
    "    if len(mis_n_enc_dict) == 1:\n",
    "        enc_to_str_dict[mis_n_enc_dict[0][0]] = mis_n_str_dict[0][0]\n",
    "    else:\n",
    "        mis_n_enc_dict = sorted(mis_n_enc_dict, key=lambda x: x[1])\n",
    "        mis_n_str_dict = sorted(mis_n_str_dict, key=lambda x: x[1])\n",
    "        for enc, _str in zip(mis_n_enc_dict, mis_n_str_dict):\n",
    "            enc_to_str_dict[enc[0]] = _str[0]\n",
    "    \n",
    "    return enc_to_str_dict\n",
    "\n",
    "enc_to_str_src_dict = get_enc_to_str(avc_src, vc_src)\n",
    "enc_to_str_dict = get_enc_to_str(avc_tgt, vc_tgt)"
   ]
  },
  {
   "cell_type": "code",
   "execution_count": 87,
   "metadata": {},
   "outputs": [],
   "source": [
    "data = pd.read_parquet(f'{appr_path}/results/logits_features_targets_test_{args.seed}_1-{ts}.parquet')\n",
    "res = pd.read_parquet(f'{appr_path}/results/outputs_targets_features_{args.seed}_1-{ts}.parquet')\n",
    "\n",
    "assert (data['Targets'][0] == res['Targets'][0][0]).all()\n",
    "assert (data['Targets'][1] == res['Targets'][0][1]).all()\n",
    "\n",
    "inputs_src = data['Inputs'][0].copy()\n",
    "inputs_tgt = data['Inputs'][1].copy()\n",
    "\n",
    "true_src = res['Targets'][0][0].copy()\n",
    "true_tgt = res['Targets'][0][1].copy()\n",
    "\n",
    "score_src = res['Scores'][0][0].copy()\n",
    "score_tgt = res['Scores'][0][1].copy()\n",
    "\n",
    "feats_src = res['Features'][0][0].copy()\n",
    "feats_tgt = res['Features'][0][1].copy()\n",
    "\n",
    "inputs_src = np.array([[[[v1 for v1 in v0] for v0 in v] for v in s] for s in inputs_src])\n",
    "inputs_tgt = np.array([[[[v1 for v1 in v0] for v0 in v] for v in s] for s in inputs_tgt])\n",
    "score_src = np.array([[v for v in s] for s in score_src])\n",
    "score_tgt = np.array([[v for v in s] for s in score_tgt])\n",
    "feats_src = np.array([[v for v in s] for s in feats_src])\n",
    "feats_tgt = np.array([[v for v in s] for s in feats_tgt])\n",
    "\n",
    "pred_src = np.argmax(score_src, axis=1)\n",
    "pred_tgt = np.argmax(score_tgt, axis=1)"
   ]
  },
  {
   "cell_type": "code",
   "execution_count": 88,
   "metadata": {},
   "outputs": [],
   "source": [
    "inputs_src_corr = [v for v, t, p in zip(inputs_src, true_src, pred_src) if t == p]\n",
    "inputs_tgt_corr = [v for v, t, p in zip(inputs_tgt, true_tgt, pred_tgt) if t == p]\n",
    "feats_src_corr = [v for v, t, p in zip(feats_src, true_src, pred_src) if t == p]\n",
    "feats_tgt_corr = [v for v, t, p in zip(feats_tgt, true_tgt, pred_tgt) if t == p]\n",
    "true_src_corr = [t for t, p in zip(true_src, pred_src) if t == p]\n",
    "true_tgt_corr = [t for t, p in zip(true_tgt, pred_tgt) if t == p]"
   ]
  },
  {
   "cell_type": "code",
   "execution_count": 89,
   "metadata": {},
   "outputs": [],
   "source": [
    "targeted_class = 2\n",
    "inputs_src_corr_t = [v for v, t in zip(inputs_src_corr, true_src_corr) if t == targeted_class]\n",
    "inputs_tgt_corr_t = [v for v, t in zip(inputs_tgt_corr, true_tgt_corr) if t == targeted_class]\n",
    "feats_src_corr_t = [v for v, t in zip(feats_src_corr, true_src_corr) if t == targeted_class]\n",
    "feats_tgt_corr_t = [v for v, t in zip(feats_tgt_corr, true_tgt_corr) if t == targeted_class]"
   ]
  },
  {
   "cell_type": "code",
   "execution_count": 90,
   "metadata": {},
   "outputs": [],
   "source": [
    "df_trn = pd.read_parquet(f'{appr_path}/results/logits_features_targets_train_{args.seed}_1-{ts}.parquet')\n",
    "\n",
    "true_trn = df_trn['Targets'][0].copy()\n",
    "score_trn = df_trn['Logits'][0].copy()\n",
    "features_trn = df_trn['Features'][0].copy()\n",
    "inputs_trn = df_trn['Inputs'][0].copy()\n",
    "true_mem = df_trn['Targets'][1].copy()\n",
    "score_mem = df_trn['Logits'][1].copy()\n",
    "features_mem = df_trn['Features'][1].copy()\n",
    "inputs_mem = df_trn['Inputs'][1].copy()\n",
    "\n",
    "score_trn = np.array([[v for v in s] for s in score_trn])\n",
    "features_trn = np.array([[v for v in s] for s in features_trn])\n",
    "score_mem = np.array([[v for v in s] for s in score_mem])\n",
    "features_mem = np.array([[v for v in s] for s in features_mem])\n",
    "inputs_trn = np.array([[[[v1 for v1 in v0] for v0 in v] for v in s] for s in inputs_trn])\n",
    "inputs_mem = np.array([[[[v1 for v1 in v0] for v0 in v] for v in s] for s in inputs_mem])"
   ]
  },
  {
   "cell_type": "code",
   "execution_count": 91,
   "metadata": {},
   "outputs": [],
   "source": [
    "def compute_neighbors(sample_feats, dataset_src_feats, dataset_tgt_feats, inputs_src_t, inputs_tgt_t,\n",
    "    true_src, true_tgt, pred_src=None, pred_tgt=None, k=5):\n",
    "    top_k_nb = []\n",
    "    top_k_inputs = []\n",
    "    top_k_classes = []\n",
    "    top_k_preds = []\n",
    "    for sample in tqdm(sample_feats):\n",
    "        rows = []\n",
    "\n",
    "        src_distances = np.linalg.norm(sample - dataset_src_feats, axis=1)\n",
    "        tgt_distances = np.linalg.norm(sample - dataset_tgt_feats, axis=1)\n",
    "\n",
    "        sortidx = np.argsort(np.concatenate((src_distances, tgt_distances)))[:k]\n",
    "        values =  np.concatenate((np.full(len(src_distances), 'SRC'), np.full(len(tgt_distances), 'TGT')))[sortidx]\n",
    "\n",
    "        top_k_nb.append(values)\n",
    "        top_k_inputs.append(np.concatenate((inputs_src_t, inputs_tgt_t))[sortidx])\n",
    "        top_k_classes.append(np.concatenate((true_src, true_tgt))[sortidx])\n",
    "        if pred_src is not None and pred_tgt is not None:\n",
    "            top_k_preds.append(np.concatenate((pred_src, pred_tgt))[sortidx])\n",
    "\n",
    "    if pred_src is not None and pred_tgt is not None:\n",
    "        return top_k_nb, top_k_inputs, top_k_classes, top_k_preds\n",
    "        \n",
    "    return top_k_nb, top_k_inputs, top_k_classes"
   ]
  },
  {
   "cell_type": "code",
   "execution_count": 92,
   "metadata": {},
   "outputs": [],
   "source": [
    "pred_mem = np.argmax(model(convert_to_tensor(inputs_mem)).detach().numpy(), axis=1)\n",
    "pred_trn = np.argmax(model(convert_to_tensor(inputs_trn)).detach().numpy(), axis=1)"
   ]
  },
  {
   "cell_type": "code",
   "execution_count": 93,
   "metadata": {},
   "outputs": [],
   "source": [
    "tgt = 399  # Index of biflow to be analyzed\n",
    "discr = 'common'  # Custom label for the biflow type"
   ]
  },
  {
   "cell_type": "code",
   "execution_count": 94,
   "metadata": {},
   "outputs": [
    {
     "name": "stderr",
     "output_type": "stream",
     "text": [
      "100%|██████████| 1/1 [00:00<00:00, 26.32it/s]\n"
     ]
    }
   ],
   "source": [
    "targeted_biflow = feats_tgt_corr_t[tgt:tgt+1]\n",
    "top_k_nb, top_k_inputs, top_k_classes, top_k_preds = compute_neighbors(\n",
    "    targeted_biflow, features_mem, features_trn, inputs_mem, inputs_trn, true_mem, true_trn, pred_mem, pred_trn)"
   ]
  },
  {
   "cell_type": "code",
   "execution_count": 95,
   "metadata": {},
   "outputs": [],
   "source": [
    "def decode_lbl(lbl):\n",
    "    return enc_to_str_dict.get(lbl, enc_to_str_src_dict.get(lbl, None))"
   ]
  },
  {
   "cell_type": "code",
   "execution_count": 96,
   "metadata": {},
   "outputs": [],
   "source": [
    "top_k_lbls = [decode_lbl(k) for k in top_k_classes[0]]\n",
    "targeted_lbl = decode_lbl(targeted_class)"
   ]
  },
  {
   "cell_type": "markdown",
   "metadata": {},
   "source": [
    "# SHAP"
   ]
  },
  {
   "cell_type": "code",
   "execution_count": 97,
   "metadata": {},
   "outputs": [
    {
     "name": "stderr",
     "output_type": "stream",
     "text": [
      "100%|██████████| 1/1 [00:00<00:00, 9078.58it/s]\n",
      "100%|██████████| 1/1 [00:00<00:00, 7294.44it/s]\n",
      "100%|██████████| 1/1 [00:00<00:00, 7013.89it/s]\n",
      "100%|██████████| 1/1 [00:00<00:00, 8192.00it/s]\n",
      "100%|██████████| 1/1 [00:00<00:00, 8388.61it/s]\n",
      "100%|██████████| 1/1 [00:00<00:00, 7767.23it/s]\n"
     ]
    }
   ],
   "source": [
    "\n",
    "shap_explanations = []\n",
    "\n",
    "for samples_to_explain, classe in zip([inputs_tgt_corr_t[tgt]] + top_k_inputs[0].tolist(), [targeted_class] + top_k_preds[0].tolist()):\n",
    "    \n",
    "    index=np.arange(len(inputs_mem) + len(inputs_trn))\n",
    "    random_index=np.random.choice(index, 500, replace=False)\n",
    "    trn_instances = np.concatenate((inputs_mem, inputs_trn))[random_index]\n",
    "\n",
    "    background = trn_instances\n",
    "\n",
    "    e = shap.DeepExplainer(model, convert_to_tensor(background))\n",
    "\n",
    "    shap_values_bic = e.shap_values(convert_to_tensor([[[list(y) for y in x]] for x in samples_to_explain]))\n",
    "    \n",
    "    bic=[]\n",
    "\n",
    "    for indice_shap in tqdm(np.arange(len(shap_values_bic[0]))):\n",
    "        bic.append(shap_values_bic[classe][indice_shap][0]/(np.sum(shap_values_bic[classe][indice_shap])))\n",
    "    \n",
    "    shap_explanations.append(bic)"
   ]
  },
  {
   "cell_type": "code",
   "execution_count": 98,
   "metadata": {},
   "outputs": [],
   "source": [
    "def get_top_worst_index(arr):\n",
    "    arr = np.array(arr).flatten()\n",
    "    sorted_indices = np.argsort(arr)\n",
    "    top_4_indices = sorted_indices[-3:][::-1]\n",
    "    worst_4_indices = sorted_indices[:3]\n",
    "    return top_4_indices, worst_4_indices"
   ]
  },
  {
   "cell_type": "code",
   "execution_count": 99,
   "metadata": {},
   "outputs": [
    {
     "name": "stdout",
     "output_type": "stream",
     "text": [
      "['dos-http', 'dos-http', 'dos-http', 'dos-http', 'dos-http', 'dos-http']\n"
     ]
    },
    {
     "data": {
      "image/png": "[encoded data removed]",
      "text/plain": [
       "<Figure size 2000x700 with 10 Axes>"
      ]
     },
     "metadata": {},
     "output_type": "display_data"
    }
   ],
   "source": [
    "plot = np.concatenate(([inputs_tgt_corr_t[tgt]], top_k_inputs[0]))\n",
    "\n",
    "plot = plot.flatten().reshape(6, 40)\n",
    "\n",
    "plt.rcParams['font.size']=16\n",
    "fig, axs = plt.subplots(1,10,figsize=(20, 7))\n",
    "\n",
    "targets_considered_samples = [targeted_lbl] + top_k_lbls\n",
    "\n",
    "mask_pl = np.zeros_like(plot)\n",
    "for x in np.arange(0, 37, 4):\n",
    "    mask_pl[:, x] = plot[:, x] ==0\n",
    "    \n",
    "mask_iat = np.zeros_like(plot)\n",
    "for x in np.arange(0, 37, 4):\n",
    "    mask_iat[:, x+1] = plot[:, x+1] ==0\n",
    "    \n",
    "mask_dir = np.zeros_like(plot)\n",
    "for x in np.arange(0, 37, 4):\n",
    "    mask_dir[:, x+2] = plot[:, x+2] ==0.5\n",
    "\n",
    "mask_win = np.zeros_like(plot)\n",
    "for x in np.arange(0, 37, 4):\n",
    "    mask_win[:, x+3] = plot[:, x+3] ==0\n",
    "mask = np.sum([mask_pl, mask_iat, mask_dir, mask_win], axis=0)\n",
    "\n",
    "data = np.ones_like(plot)\n",
    "print(targets_considered_samples)\n",
    "\n",
    "for i, ax in enumerate(axs):\n",
    "    g = sn.heatmap(data[:, 4*i:4*(i+1)], square=True, cmap='Blues_r', linewidths=0.5, linecolor='black', vmax=1.2, vmin=0.4, cbar=False, ax=ax)\n",
    "\n",
    "for i, ax in enumerate(axs):\n",
    "    g = sn.heatmap(plot[:, 4*i:4*(i+1)],\n",
    "            cmap=sn.color_palette(\"Greys\", as_cmap=True),\n",
    "            linewidths=0.5, linecolor='k', vmin=0, vmax=1, cbar_kws = {\"use_gridspec\":False,\"location\":\"top\", \"shrink\":0.7},\n",
    "            mask=mask[:,4*i:4*(i+1)],\n",
    "            square=True, ax=ax, cbar=False)\n",
    "\n",
    "n_classes = 6\n",
    "\n",
    "for i, ax in enumerate(axs):\n",
    "    ax.set_xticks(np.arange(4)+0.5, \n",
    "            [f'PL$_{{{i+1}}}$', f'IAT$_{{{i+1}}}$', f'DIR$_{{{i+1}}}$', f'WIN$_{{{i+1}}}$'], # + [f'IAT$_{x}$' for x in np.arange(10)] + [f'DIR$_{x}$' for x in np.arange(10)] + [f'WIN$_{x}$' for x in np.arange(10)],\n",
    "            rotation=60, fontsize=18)\n",
    "            \n",
    "axs[0].set_yticks(np.arange(n_classes)+0.5, [\n",
    "    r'$\\mathrm{Test}\\rightarrow$' + '-'.join(['$\\mathtt{%s}$' % v for v in x.split('-')]) if d == 'TEST' else\n",
    "    r'$\\mathcal{S}\\rightarrow$' + '-'.join(['$\\mathtt{%s}$' % v for v in x.split('-')]) if d == 'SRC' else\n",
    "    r'$\\mathcal{T}\\rightarrow$' + '-'.join(['$\\mathtt{%s}$' % v for v in x.split('-')])\n",
    "    for x, d in zip(targets_considered_samples, ['TEST'] + top_k_nb[0].tolist())], rotation=0, fontsize=18)\n",
    "\n",
    "for ax in axs[1:]:\n",
    "    ax.set_yticks(np.arange(n_classes)+0.5,['']*n_classes)\n",
    "\n",
    "for ax in axs:\n",
    "    ax.axhline(y=1, c='orange', lw=3, zorder=100)\n",
    "    for spine in ax.spines.values():\n",
    "        spine.set_visible(True)\n",
    "        spine.set_color('black')  # Border color\n",
    "        spine.set_linewidth(2)    # Border width\n",
    "\n",
    "for i, x in enumerate(shap_explanations):\n",
    "    top4, worst4 = get_top_worst_index(x[0])\n",
    "    for temp in top4:\n",
    "        ax = axs[int(np.floor(temp/4))]\n",
    "        \n",
    "        ax.add_patch(plt.Rectangle((temp%4, i), 1, 1, fill=False, edgecolor='lime', lw=4, zorder=10))\n",
    "        \n",
    "    for temp in worst4:\n",
    "        ax = axs[int(np.floor(temp/4))]\n",
    "        ax.add_patch(plt.Rectangle((temp%4, i), 1, 1, fill=False, edgecolor='orangered', lw=4, zorder=9))\n",
    "\n",
    "plt.savefig(f'samples_based_explanation_{tgt}_{discr}.pdf', dpi=300, bbox_inches='tight')\n",
    "plt.show()"
   ]
  }
 ],
 "metadata": {
  "kernelspec": {
   "display_name": "Python 3",
   "language": "python",
   "name": "python3"
  },
  "language_info": {
   "codemirror_mode": {
    "name": "ipython",
    "version": 3
   },
   "file_extension": ".py",
   "mimetype": "text/x-python",
   "name": "python",
   "nbconvert_exporter": "python",
   "pygments_lexer": "ipython3",
   "version": "3.10.12"
  },
  "vscode": {
   "interpreter": {
    "hash": "916dbcbb3f70747c44a77c7bcd40155683ae19c65e1c03b4aa3499c5328201f1"
   }
  }
 },
 "nbformat": 4,
 "nbformat_minor": 2
}
